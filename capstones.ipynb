{
 "cells": [
  {
   "cell_type": "code",
   "execution_count": 3,
   "metadata": {},
   "outputs": [],
   "source": [
    "import numpy as np\n",
    "import pandas as pd\n",
    "import os"
   ]
  },
  {
   "cell_type": "code",
   "execution_count": 4,
   "metadata": {},
   "outputs": [
    {
     "data": {
      "text/html": [
       "<div>\n",
       "<style scoped>\n",
       "    .dataframe tbody tr th:only-of-type {\n",
       "        vertical-align: middle;\n",
       "    }\n",
       "\n",
       "    .dataframe tbody tr th {\n",
       "        vertical-align: top;\n",
       "    }\n",
       "\n",
       "    .dataframe thead th {\n",
       "        text-align: right;\n",
       "    }\n",
       "</style>\n",
       "<table border=\"1\" class=\"dataframe\">\n",
       "  <thead>\n",
       "    <tr style=\"text-align: right;\">\n",
       "      <th></th>\n",
       "      <th>day</th>\n",
       "      <th>time</th>\n",
       "      <th>latitude</th>\n",
       "      <th>longitude</th>\n",
       "      <th>depth</th>\n",
       "      <th>mag</th>\n",
       "    </tr>\n",
       "  </thead>\n",
       "  <tbody>\n",
       "    <tr>\n",
       "      <th>0</th>\n",
       "      <td>2019-02-17</td>\n",
       "      <td>14:35:55.830000</td>\n",
       "      <td>-3.3439</td>\n",
       "      <td>152.1346</td>\n",
       "      <td>368.16</td>\n",
       "      <td>6.3</td>\n",
       "    </tr>\n",
       "    <tr>\n",
       "      <th>1</th>\n",
       "      <td>2019-02-02</td>\n",
       "      <td>09:27:34.530000</td>\n",
       "      <td>-2.8604</td>\n",
       "      <td>100.0208</td>\n",
       "      <td>10.00</td>\n",
       "      <td>6.1</td>\n",
       "    </tr>\n",
       "    <tr>\n",
       "      <th>2</th>\n",
       "      <td>2019-01-26</td>\n",
       "      <td>03:51:38.430000</td>\n",
       "      <td>-7.0194</td>\n",
       "      <td>156.3109</td>\n",
       "      <td>361.92</td>\n",
       "      <td>6.2</td>\n",
       "    </tr>\n",
       "    <tr>\n",
       "      <th>3</th>\n",
       "      <td>2019-01-22</td>\n",
       "      <td>05:10:03.490000</td>\n",
       "      <td>-10.4071</td>\n",
       "      <td>119.0372</td>\n",
       "      <td>24.00</td>\n",
       "      <td>6.4</td>\n",
       "    </tr>\n",
       "    <tr>\n",
       "      <th>4</th>\n",
       "      <td>2019-01-21</td>\n",
       "      <td>23:59:22.600000</td>\n",
       "      <td>-10.3113</td>\n",
       "      <td>119.1472</td>\n",
       "      <td>16.77</td>\n",
       "      <td>6.0</td>\n",
       "    </tr>\n",
       "  </tbody>\n",
       "</table>\n",
       "</div>"
      ],
      "text/plain": [
       "          day             time  latitude  longitude   depth  mag\n",
       "0  2019-02-17  14:35:55.830000   -3.3439   152.1346  368.16  6.3\n",
       "1  2019-02-02  09:27:34.530000   -2.8604   100.0208   10.00  6.1\n",
       "2  2019-01-26  03:51:38.430000   -7.0194   156.3109  361.92  6.2\n",
       "3  2019-01-22  05:10:03.490000  -10.4071   119.0372   24.00  6.4\n",
       "4  2019-01-21  23:59:22.600000  -10.3113   119.1472   16.77  6.0"
      ]
     },
     "execution_count": 4,
     "metadata": {},
     "output_type": "execute_result"
    }
   ],
   "source": [
    "# Import and warngink data\n",
    "divvyStations = pd.read_csv(\"../capstones/data/ringofFire1970.csv\")\n",
    "divvyStations = divvyStations[['time','latitude', 'longitude', 'depth', 'mag']]\n",
    "divvyStations['time1'] = pd.to_datetime(divvyStations['time'])\n",
    "divvyStations = divvyStations[['time1','latitude', 'longitude', 'depth', 'mag']]\n",
    "divvyStations['day'] = divvyStations['time1'].dt.date\n",
    "divvyStations['time'] = divvyStations['time1'].dt.time\n",
    "divvyStations = divvyStations[['day','time','latitude', 'longitude', 'depth', 'mag']]\n",
    "divvyStations.head()"
   ]
  },
  {
   "cell_type": "markdown",
   "metadata": {},
   "source": [
    "# Using Folium to Visualize Earthquake Data"
   ]
  },
  {
   "cell_type": "code",
   "execution_count": null,
   "metadata": {},
   "outputs": [],
   "source": [
    "!conda install -c conda-forge folium=0.5.0 --yes\n",
    "import folium\n",
    "\n",
    "print('Folium installed and imported!')\n",
    "\n",
    "from folium import plugins\n",
    "import matplotlib.pyplot as plt\n",
    "import seaborn as sns"
   ]
  },
  {
   "cell_type": "code",
   "execution_count": null,
   "metadata": {
    "button": false,
    "collapsed": false,
    "editable": true,
    "new_sheet": false,
    "run_control": {
     "read_only": false
    },
    "scrolled": false
   },
   "outputs": [],
   "source": [
    "# define the world map centered around Canada with a higher zoom level\n",
    "world_map = folium.Map(location=[56.130, -106.35], zoom_start=8)\n",
    "\n",
    "# display world map\n",
    "world_map"
   ]
  },
  {
   "cell_type": "code",
   "execution_count": null,
   "metadata": {},
   "outputs": [],
   "source": []
  },
  {
   "cell_type": "code",
   "execution_count": null,
   "metadata": {},
   "outputs": [],
   "source": [
    "# mark each station as a point\n",
    "for index, row in df.iterrows():\n",
    "    folium.CircleMarker([row['latitude'], row['longitude']],\n",
    "                        radius=15,\n",
    "                        popup=row['name'],\n",
    "                        fill_color=\"#3db7e4\", # divvy color\n",
    "                       ).add_to(m)"
   ]
  }
 ],
 "metadata": {
  "kernelspec": {
   "display_name": "Python 3",
   "language": "python",
   "name": "python3"
  },
  "language_info": {
   "codemirror_mode": {
    "name": "ipython",
    "version": 3
   },
   "file_extension": ".py",
   "mimetype": "text/x-python",
   "name": "python",
   "nbconvert_exporter": "python",
   "pygments_lexer": "ipython3",
   "version": "3.6.8"
  }
 },
 "nbformat": 4,
 "nbformat_minor": 2
}
