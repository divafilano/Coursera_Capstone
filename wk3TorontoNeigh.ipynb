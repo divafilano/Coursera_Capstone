{
 "cells": [
  {
   "cell_type": "code",
   "execution_count": null,
   "metadata": {},
   "outputs": [],
   "source": [
    "!conda install -c anaconda beautifulsoup4 --yes"
   ]
  },
  {
   "cell_type": "markdown",
   "metadata": {},
   "source": [
    "### User Soupe to create datafrme from wikipedia"
   ]
  },
  {
   "cell_type": "code",
   "execution_count": 39,
   "metadata": {},
   "outputs": [],
   "source": [
    "import requests\n",
    "import pandas as pd\n",
    "from bs4 import BeautifulSoup\n",
    "website_url = requests.get(\"https://en.wikipedia.org/wiki/List_of_postal_codes_of_Canada:_M\").text\n",
    "soup = BeautifulSoup(website_url,'lxml')\n",
    "\n",
    "table = soup.find('table',{'class':'wikitable sortable'})\n",
    "\n",
    "table_rows = table.find_all('tr')\n",
    "\n",
    "res = []\n",
    "\n",
    "for tr in table_rows:\n",
    "    td = tr.find_all('td')\n",
    "    row = [tr.text.strip() for tr in td if tr.text.strip()]\n",
    "    # print(table_rows)\n",
    "   # If a cell has a borough but a Not assigned neighborhood, \n",
    "    # then the neighborhood will be the same as the borough. \n",
    "    # So for the 9th cell in the table on the Wikipedia page, \n",
    "    # the value of the Borough and the Neighborhood columns will be Queen's Park.\n",
    "    if row:\n",
    "        # Only process the cells that have an assigned borough. \n",
    "        #nIgnore cells with a borough that is Not assigned.\n",
    "        if row[1] != 'Not assigned':\n",
    "            if row[2]=='Not assigned':\n",
    "               row[2]=row[1]\n",
    "            res.append(row)"
   ]
  },
  {
   "cell_type": "markdown",
   "metadata": {},
   "source": [
    "#### More than one neighborhood can exist in one postal code area. For example, in the table on the Wikipedia page, you will notice that M5A is listed twice and has two neighborhoods: Harbourfront and Regent Park. These two rows will be combined into one row with the neighborhoods separated with a comma "
   ]
  },
  {
   "cell_type": "code",
   "execution_count": 40,
   "metadata": {},
   "outputs": [
    {
     "name": "stdout",
     "output_type": "stream",
     "text": [
      "Postcode  Borough         \n",
      "M1B       Scarborough                                             Rouge,Malvern\n",
      "M1C       Scarborough                      Highland Creek,Rouge Hill,Port Union\n",
      "M1E       Scarborough                           Guildwood,Morningside,West Hill\n",
      "M1G       Scarborough                                                    Woburn\n",
      "M1H       Scarborough                                                 Cedarbrae\n",
      "M1J       Scarborough                                       Scarborough Village\n",
      "M1K       Scarborough                 East Birchmount Park,Ionview,Kennedy Park\n",
      "M1L       Scarborough                             Clairlea,Golden Mile,Oakridge\n",
      "M1M       Scarborough             Cliffcrest,Cliffside,Scarborough Village West\n",
      "M1N       Scarborough                                Birch Cliff,Cliffside West\n",
      "M1P       Scarborough         Dorset Park,Scarborough Town Centre,Wexford He...\n",
      "M1R       Scarborough                                          Maryvale,Wexford\n",
      "M1S       Scarborough                                                 Agincourt\n",
      "M1T       Scarborough                     Clarks Corners,Sullivan,Tam O'Shanter\n",
      "M1V       Scarborough         Agincourt North,L'Amoreaux East,Milliken,Steel...\n",
      "M1W       Scarborough                              L'Amoreaux West,Steeles West\n",
      "M1X       Scarborough                                               Upper Rouge\n",
      "M2H       North York                                          Hillcrest Village\n",
      "M2J       North York                                 Fairview,Henry Farm,Oriole\n",
      "M2K       North York                                            Bayview Village\n",
      "M2L       North York                                    Silver Hills,York Mills\n",
      "M2M       North York                                     Newtonbrook,Willowdale\n",
      "M2N       North York                                           Willowdale South\n",
      "M2P       North York                                            York Mills West\n",
      "M2R       North York                                            Willowdale West\n",
      "M3A       North York                                                  Parkwoods\n",
      "M3B       North York                                            Don Mills North\n",
      "M3C       North York                            Flemingdon Park,Don Mills South\n",
      "M3H       North York              Bathurst Manor,Downsview North,Wilson Heights\n",
      "M3J       North York                             Northwood Park,York University\n",
      "                                                    ...                        \n",
      "M6C       York                                               Humewood-Cedarvale\n",
      "M6E       York                                              Caledonia-Fairbanks\n",
      "M6G       Downtown Toronto                                             Christie\n",
      "M6H       West Toronto                              Dovercourt Village,Dufferin\n",
      "M6J       West Toronto                                  Little Portugal,Trinity\n",
      "M6K       West Toronto               Brockton,Exhibition Place,Parkdale Village\n",
      "M6L       North York                     Maple Leaf Park,North Park,Upwood Park\n",
      "M6M       York                      Del Ray,Keelesdale,Mount Dennis,Silverthorn\n",
      "M6N       York                                     The Junction North,Runnymede\n",
      "M6P       West Toronto                             High Park,The Junction South\n",
      "M6R       West Toronto                                    Parkdale,Roncesvalles\n",
      "M6S       West Toronto                                        Runnymede,Swansea\n",
      "M7A       Queen's Park                                             Queen's Park\n",
      "M7R       Mississauga                     Canada Post Gateway Processing Centre\n",
      "M7Y       East Toronto        Business Reply Mail Processing Centre 969 Eastern\n",
      "M8V       Etobicoke                  Humber Bay Shores,Mimico South,New Toronto\n",
      "M8W       Etobicoke                                       Alderwood,Long Branch\n",
      "M8X       Etobicoke                 The Kingsway,Montgomery Road,Old Mill North\n",
      "M8Y       Etobicoke           Humber Bay,King's Mill Park,Kingsway Park Sout...\n",
      "M8Z       Etobicoke           Kingsway Park South West,Mimico NW,The Queensw...\n",
      "M9A       Etobicoke                                            Islington Avenue\n",
      "M9B       Etobicoke           Cloverdale,Islington,Martin Grove,Princess Gar...\n",
      "M9C       Etobicoke           Bloordale Gardens,Eringate,Markland Wood,Old B...\n",
      "M9L       North York                                              Humber Summit\n",
      "M9M       North York                                            Emery,Humberlea\n",
      "M9N       York                                                           Weston\n",
      "M9P       Etobicoke                                                   Westmount\n",
      "M9R       Etobicoke           Kingsview Village,Martin Grove Gardens,Richvie...\n",
      "M9V       Etobicoke           Albion Gardens,Beaumond Heights,Humbergate,Jam...\n",
      "M9W       Etobicoke                                                   Northwest\n",
      "Length: 103, dtype: object\n"
     ]
    }
   ],
   "source": [
    "# If a cell has a borough but a Not assigned neighborhood, \n",
    "# then the neighborhood will be the same as the borough. \n",
    "# So for the 9th cell in the table on the Wikipedia page, \n",
    "        # the value of the Borough and the Neighborhood columns will be Queen's Park.\n",
    "df = pd.DataFrame(res, columns=[\"Postcode\", \"Borough\", \"Neighbourhood\"])\n",
    "df1 = df.groupby(['Postcode', 'Borough']).apply(lambda group: ','.join(group['Neighbourhood']))\n",
    "print(df1)"
   ]
  },
  {
   "cell_type": "code",
   "execution_count": 38,
   "metadata": {},
   "outputs": [
    {
     "data": {
      "text/plain": [
       "(103,)"
      ]
     },
     "execution_count": 38,
     "metadata": {},
     "output_type": "execute_result"
    }
   ],
   "source": [
    "df1.shape"
   ]
  },
  {
   "cell_type": "code",
   "execution_count": null,
   "metadata": {},
   "outputs": [],
   "source": []
  }
 ],
 "metadata": {
  "kernelspec": {
   "display_name": "Python 3",
   "language": "python",
   "name": "python3"
  },
  "language_info": {
   "codemirror_mode": {
    "name": "ipython",
    "version": 3
   },
   "file_extension": ".py",
   "mimetype": "text/x-python",
   "name": "python",
   "nbconvert_exporter": "python",
   "pygments_lexer": "ipython3",
   "version": "3.6.8"
  }
 },
 "nbformat": 4,
 "nbformat_minor": 2
}
